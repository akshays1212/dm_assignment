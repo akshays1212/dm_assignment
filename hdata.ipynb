{
 "cells": [
  {
   "cell_type": "code",
   "execution_count": 4,
   "id": "fbecefa5-a319-4249-91da-cbb927902d3d",
   "metadata": {},
   "outputs": [],
   "source": [
    "import numpy as np\n",
    "import pandas as pd\n"
   ]
  },
  {
   "cell_type": "code",
   "execution_count": 5,
   "id": "28a15857-7a83-4bf8-8b79-5c802e1e7373",
   "metadata": {},
   "outputs": [],
   "source": [
    "# Features and target\n",
    "X = np.array([[1000, 2], [1500, 3], [1200, 2], [1800, 4], [2000, 3]])\n",
    "y = np.array([250000, 350000, 300000, 400000, 420000])\n"
   ]
  },
  {
   "cell_type": "code",
   "execution_count": 6,
   "id": "1787704a-5cf8-4332-b913-b8717a154164",
   "metadata": {},
   "outputs": [],
   "source": [
    "# Combine features and target\n",
    "data = pd.DataFrame(X, columns=['sqr_foot', 'bedroom'])\n",
    "data['price'] = y\n"
   ]
  },
  {
   "cell_type": "code",
   "execution_count": 7,
   "id": "4c468013-0f19-4922-af09-39419503eb0e",
   "metadata": {},
   "outputs": [],
   "source": [
    "# Save to CSV\n",
    "data.to_csv('data.csv', index=False)\n"
   ]
  },
  {
   "cell_type": "code",
   "execution_count": 8,
   "id": "a2d00640-7691-441d-a857-7eb5a2cbb679",
   "metadata": {},
   "outputs": [],
   "source": [
    "a = np.array([[1600, 3], [2200, 4],[1400, 3], [2200, 5]])"
   ]
  },
  {
   "cell_type": "code",
   "execution_count": 9,
   "id": "67395fc1-adc2-4f2f-801b-bafc4ad56cce",
   "metadata": {},
   "outputs": [],
   "source": [
    "test=pd.DataFrame(a, columns=['sqr_foot', 'bedroom'])"
   ]
  },
  {
   "cell_type": "code",
   "execution_count": 11,
   "id": "b7e3ad64-cb9f-4201-a199-f031d18184e6",
   "metadata": {},
   "outputs": [],
   "source": [
    "test.to_csv('test.csv', index = False)"
   ]
  },
  {
   "cell_type": "code",
   "execution_count": null,
   "id": "b3c0b250-5ed0-4743-9540-0b14ed5d89ac",
   "metadata": {},
   "outputs": [],
   "source": []
  }
 ],
 "metadata": {
  "kernelspec": {
   "display_name": "Python [conda env:base] *",
   "language": "python",
   "name": "conda-base-py"
  },
  "language_info": {
   "codemirror_mode": {
    "name": "ipython",
    "version": 3
   },
   "file_extension": ".py",
   "mimetype": "text/x-python",
   "name": "python",
   "nbconvert_exporter": "python",
   "pygments_lexer": "ipython3",
   "version": "3.12.7"
  }
 },
 "nbformat": 4,
 "nbformat_minor": 5
}
