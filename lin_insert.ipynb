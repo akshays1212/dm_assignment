{
 "cells": [
  {
   "cell_type": "code",
   "execution_count": 1,
   "id": "a933555b-98d6-4856-9f34-5c58493229d3",
   "metadata": {},
   "outputs": [],
   "source": [
    "import numpy as np\n",
    "import pandas as pd\n"
   ]
  },
  {
   "cell_type": "code",
   "execution_count": 8,
   "id": "cbdace40-04bf-478b-b0cb-432f7cb31df4",
   "metadata": {},
   "outputs": [],
   "source": [
    "x = np.array([0, 1, 2, 3, 4, 5, 6, 7, 8, 9,10])\n",
    "y = np.array([1, 3, 2, 5, 7, 8, 8, 9, 10, 12,14])\n"
   ]
  },
  {
   "cell_type": "code",
   "execution_count": 9,
   "id": "33dd8f61-9571-4d02-ab58-9fd60cc83541",
   "metadata": {},
   "outputs": [],
   "source": [
    "data = pd.DataFrame(x, columns=['x_value'])\n",
    "data['y_value'] = y\n"
   ]
  },
  {
   "cell_type": "code",
   "execution_count": 10,
   "id": "0cd0d944-fe50-4966-8972-b0df6686f2a9",
   "metadata": {},
   "outputs": [],
   "source": [
    "data.to_csv('ldata.csv', index=False)"
   ]
  },
  {
   "cell_type": "code",
   "execution_count": null,
   "id": "3697ed1b-9187-4105-920a-f5fea6545d0c",
   "metadata": {},
   "outputs": [],
   "source": []
  }
 ],
 "metadata": {
  "kernelspec": {
   "display_name": "Python [conda env:base] *",
   "language": "python",
   "name": "conda-base-py"
  },
  "language_info": {
   "codemirror_mode": {
    "name": "ipython",
    "version": 3
   },
   "file_extension": ".py",
   "mimetype": "text/x-python",
   "name": "python",
   "nbconvert_exporter": "python",
   "pygments_lexer": "ipython3",
   "version": "3.12.7"
  }
 },
 "nbformat": 4,
 "nbformat_minor": 5
}
